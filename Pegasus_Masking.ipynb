{
 "cells": [
  {
   "cell_type": "code",
   "execution_count": 43,
   "metadata": {},
   "outputs": [],
   "source": [
    "import random\n",
    "import more_itertools as mit\n",
    "import pickle\n",
    "import itertools\n",
    "import numpy as np\n",
    "import pandas as pd\n",
    "import re\n",
    "from rouge import Rouge\n",
    "import tqdm.notebook as tq"
   ]
  },
  {
   "cell_type": "code",
   "execution_count": 44,
   "metadata": {},
   "outputs": [],
   "source": [
    "texts = pickle.load(open(\"/project/Data/unlabelled_terms_medium.p\", \"rb\"))\n",
    "texts = [np.array(re.findall('.*?[.!?]', text)) for text in texts]"
   ]
  },
  {
   "cell_type": "code",
   "execution_count": 45,
   "metadata": {},
   "outputs": [],
   "source": [
    "texts = [[sentence.replace(\"\\t\",\"\").replace(\"\\n\",\"\").replace(\"\\r\",\"\").strip() for sentence in text] for text in texts]"
   ]
  },
  {
   "cell_type": "code",
   "execution_count": 46,
   "metadata": {},
   "outputs": [],
   "source": [
    "texts = [np.array([sentence for sentence in text if len(sentence)>4]) for text in texts]"
   ]
  },
  {
   "cell_type": "code",
   "execution_count": 47,
   "metadata": {},
   "outputs": [],
   "source": [
    "texts = [text for text in texts if len(text)>2]"
   ]
  },
  {
   "cell_type": "code",
   "execution_count": 48,
   "metadata": {},
   "outputs": [
    {
     "data": {
      "text/plain": [
       "29988"
      ]
     },
     "execution_count": 48,
     "metadata": {},
     "output_type": "execute_result"
    }
   ],
   "source": [
    "len(texts)"
   ]
  },
  {
   "cell_type": "code",
   "execution_count": 49,
   "metadata": {
    "scrolled": true
   },
   "outputs": [
    {
     "data": {
      "application/vnd.jupyter.widget-view+json": {
       "model_id": "2d9c09d99e644b0caec7461f9167b0af",
       "version_major": 2,
       "version_minor": 0
      },
      "text/plain": [
       "  0%|          | 0/29988 [00:00<?, ?it/s]"
      ]
     },
     "metadata": {},
     "output_type": "display_data"
    }
   ],
   "source": [
    "prepared_texts = {'input_text':[None]*len(texts),\n",
    "                  'target_text':[None]*len(texts)}\n",
    "failed = 0\n",
    "\n",
    "for index, text in enumerate(tq.tqdm(texts)):\n",
    "    \n",
    "    # The original Pegaus paper scores each sentence in a document with\n",
    "    # rouge-1 f-1, with respect to the rest of the document, minus the\n",
    "    # sentence being scored. Then the top-m high scoring sentences are masked.\n",
    "    # Here this process is replicated.\n",
    "    \n",
    "    # dict for storing refs, i.e. the document minus the sentence being scored\n",
    "    # and hyps, i.e. the sentence being scored\n",
    "    rouge_input = {'refs':[],'hyps':[]}\n",
    "    \n",
    "    # separating sentences from each document\n",
    "    for i,_ in enumerate(text):\n",
    "        rouge_input['refs'].append(''.join(np.delete(text, i)))\n",
    "        rouge_input['hyps'].append(text[i])\n",
    "        \n",
    "    # compute rouge scores for each sentence\n",
    "    rouge = Rouge()\n",
    "    try:\n",
    "        rouge_scores = rouge.get_scores(rouge_input['hyps'], rouge_input['refs'])\n",
    "    except:\n",
    "        continue\n",
    "        \n",
    "    # define m to be equal to 30% of the number of sentences, as in the original paper\n",
    "    m = round(len(text)*0.3)\n",
    "    \n",
    "    # select the sentences among the top-m rouge-1 f-1 scores\n",
    "    # these sentences will be masked\n",
    "    masked = set(np.array([score['rouge-1']['f'] for score in rouge_scores]).argsort()[-m:][::-1])\n",
    "    \n",
    "    # compute indeces for sentences that get masked and don't get masked\n",
    "    unmasked = sorted(list(set(range(len(text))) - masked))\n",
    "    masked = sorted(list(masked))\n",
    "    \n",
    "    # create the input and target texts\n",
    "    input_text = text.copy()\n",
    "    target_text = text.copy()\n",
    "    \n",
    "    # insert masking tokens\n",
    "    input_text[masked] = ' <mask_1> '\n",
    "    prepared_texts['input_text'][index] = ''.join(input_text)\n",
    "    \n",
    "    # retrieve masked sentences and append end of sentence tokens\n",
    "    prepared_texts['target_text'][index] = ''.join([sentence + \"</s>\" for sentence in target_text[masked]])\n",
    "    "
   ]
  },
  {
   "cell_type": "code",
   "execution_count": 50,
   "metadata": {},
   "outputs": [
    {
     "data": {
      "text/html": [
       "<div>\n",
       "<style scoped>\n",
       "    .dataframe tbody tr th:only-of-type {\n",
       "        vertical-align: middle;\n",
       "    }\n",
       "\n",
       "    .dataframe tbody tr th {\n",
       "        vertical-align: top;\n",
       "    }\n",
       "\n",
       "    .dataframe thead th {\n",
       "        text-align: right;\n",
       "    }\n",
       "</style>\n",
       "<table border=\"1\" class=\"dataframe\">\n",
       "  <thead>\n",
       "    <tr style=\"text-align: right;\">\n",
       "      <th></th>\n",
       "      <th>input_text</th>\n",
       "      <th>target_text</th>\n",
       "    </tr>\n",
       "  </thead>\n",
       "  <tbody>\n",
       "    <tr>\n",
       "      <th>0</th>\n",
       "      <td>For orders that contain any fresh grocery item...</td>\n",
       "      <td>Orders that contain both fresh grocery items a...</td>\n",
       "    </tr>\n",
       "    <tr>\n",
       "      <th>1</th>\n",
       "      <td>evaluate site performance.provided by the cook...</td>\n",
       "      <td>information is stored to enable historical rep...</td>\n",
       "    </tr>\n",
       "    <tr>\n",
       "      <th>2</th>\n",
       "      <td>Where our Sites include links to other website...</td>\n",
       "      <td>If you submit Personal Data to any of those ot...</td>\n",
       "    </tr>\n",
       "    <tr>\n",
       "      <th>3</th>\n",
       "      <td>You may view information provided through the ...</td>\n",
       "      <td>You agree not to access the Services by any me...</td>\n",
       "    </tr>\n",
       "    <tr>\n",
       "      <th>4</th>\n",
       "      <td>Under the CCPA, California Consumers have cert...</td>\n",
       "      <td>CCPA rights requests are subject to an identif...</td>\n",
       "    </tr>\n",
       "  </tbody>\n",
       "</table>\n",
       "</div>"
      ],
      "text/plain": [
       "                                          input_text  \\\n",
       "0  For orders that contain any fresh grocery item...   \n",
       "1  evaluate site performance.provided by the cook...   \n",
       "2  Where our Sites include links to other website...   \n",
       "3  You may view information provided through the ...   \n",
       "4  Under the CCPA, California Consumers have cert...   \n",
       "\n",
       "                                         target_text  \n",
       "0  Orders that contain both fresh grocery items a...  \n",
       "1  information is stored to enable historical rep...  \n",
       "2  If you submit Personal Data to any of those ot...  \n",
       "3  You agree not to access the Services by any me...  \n",
       "4  CCPA rights requests are subject to an identif...  "
      ]
     },
     "execution_count": 50,
     "metadata": {},
     "output_type": "execute_result"
    }
   ],
   "source": [
    "prepared_df = pd.DataFrame(prepared_texts)\n",
    "prepared_df.head()"
   ]
  },
  {
   "cell_type": "code",
   "execution_count": 51,
   "metadata": {},
   "outputs": [
    {
     "data": {
      "text/plain": [
       "(29988, 2)"
      ]
     },
     "execution_count": 51,
     "metadata": {},
     "output_type": "execute_result"
    }
   ],
   "source": [
    "prepared_df.shape"
   ]
  },
  {
   "cell_type": "code",
   "execution_count": 52,
   "metadata": {},
   "outputs": [],
   "source": [
    "prepared_df.to_csv('/project/Data/Pegasus_training_data_medium.csv')"
   ]
  }
 ],
 "metadata": {
  "kernelspec": {
   "display_name": "Python [conda env:Python3] *",
   "language": "python",
   "name": "conda-env-Python3-py"
  },
  "language_info": {
   "codemirror_mode": {
    "name": "ipython",
    "version": 3
   },
   "file_extension": ".py",
   "mimetype": "text/x-python",
   "name": "python",
   "nbconvert_exporter": "python",
   "pygments_lexer": "ipython3",
   "version": "3.8.2"
  }
 },
 "nbformat": 4,
 "nbformat_minor": 2
}
